{
 "cells": [
  {
   "cell_type": "code",
   "execution_count": 1,
   "id": "0e924761-626e-48bd-b82a-92c635538d4d",
   "metadata": {
    "tags": []
   },
   "outputs": [],
   "source": [
    "import pandas\n",
    "import numpy\n",
    "import matplotlib.pyplot as plt"
   ]
  },
  {
   "cell_type": "markdown",
   "id": "c10b3399-9174-404b-bc02-2c49e5996ad6",
   "metadata": {
    "tags": []
   },
   "source": [
    "# Funções"
   ]
  },
  {
   "cell_type": "markdown",
   "id": "ee505959-aeaf-4259-981d-f5d169923abf",
   "metadata": {
    "tags": []
   },
   "source": [
    "## Medidas de Tendencia Central"
   ]
  },
  {
   "cell_type": "code",
   "execution_count": 2,
   "id": "3c3f57bf-71f1-4bb8-8435-3ba49f623fda",
   "metadata": {
    "tags": []
   },
   "outputs": [],
   "source": [
    "def media(soma_X, quant_valores):\n",
    "    resultado = soma_X / quant_valores\n",
    "\n",
    "    return resultado"
   ]
  },
  {
   "cell_type": "markdown",
   "id": "600687ff-7076-4da4-9582-c2f4047b7b0d",
   "metadata": {},
   "source": [
    "## Regressão Linear"
   ]
  },
  {
   "cell_type": "code",
   "execution_count": 3,
   "id": "588ecf56-12b0-4604-a6ee-ef4d124f1a44",
   "metadata": {
    "tags": []
   },
   "outputs": [],
   "source": [
    "def coef_angular(soma_X, soma_Y, soma_X_quad, soma_XY, quant_valores):\n",
    "    numerador = soma_XY - ((soma_X * soma_Y) / quant_valores)\n",
    "    denominador = soma_X_quad - (numpy.power(soma_X, 2) / quant_valores)\n",
    "    \n",
    "    return numerador / denominador"
   ]
  },
  {
   "cell_type": "code",
   "execution_count": 4,
   "id": "c25e5fa2-3123-4ac4-8df3-32e6ecdf9105",
   "metadata": {
    "tags": []
   },
   "outputs": [],
   "source": [
    "def coef_linear(soma_X, soma_Y, quant_valores, coef_angular):\n",
    "    media_X = media(soma_X, quant_valores)\n",
    "    media_Y = media(soma_Y, quant_valores)\n",
    "    \n",
    "    return media_Y - (coef_angular * media_X)"
   ]
  },
  {
   "cell_type": "code",
   "execution_count": 5,
   "id": "4a750cde-c9a1-46e6-8eff-be2237b34871",
   "metadata": {
    "tags": []
   },
   "outputs": [],
   "source": [
    "def reta_regressao(dados):\n",
    "    SOMA_Y = sum(dados[\"Valor\"])\n",
    "    SOMA_X = sum(dados[\"Area\"])\n",
    "\n",
    "    SOMA_X_QUADRADO = sum(numpy.power(dados[\"Area\"], 2))\n",
    "\n",
    "    SOMA_XY = sum(dados[\"Valor\"] * dados[\"Area\"])\n",
    "    \n",
    "    QUANT_VALORES = len(dados.index)\n",
    "    \n",
    "    b = coef_angular(SOMA_X, SOMA_Y, SOMA_X_QUADRADO, SOMA_XY, QUANT_VALORES)\n",
    "    a = coef_linear(SOMA_X, SOMA_Y, QUANT_VALORES, b)\n",
    "    \n",
    "    return a + b * dados[\"Area\"]"
   ]
  },
  {
   "cell_type": "code",
   "execution_count": 6,
   "id": "c72a71d7",
   "metadata": {
    "tags": []
   },
   "outputs": [],
   "source": [
    "def coef_correlacao(dados):\n",
    "    SOMA_Y = sum(dados[\"Valor\"])\n",
    "    SOMA_X = sum(dados[\"Area\"])\n",
    "\n",
    "    SOMA_X_QUADRADO = sum(numpy.power(dados[\"Area\"], 2))\n",
    "    SOMA_Y_QUADRADO = sum(numpy.power(dados[\"Valor\"], 2))\n",
    "    \n",
    "    SOMA_XY = sum(dados[\"Valor\"] * dados[\"Area\"])\n",
    "    \n",
    "    QUANT_VALORES = len(dados.index)\n",
    "    \n",
    "    # Semelhante ao que fizeram em cima, separei a fórmula em numerador e denominador\n",
    "    numerador = SOMA_XY - (SOMA_X * SOMA_Y)/QUANT_VALORES \n",
    "    denominador_parte1 = SOMA_X_QUADRADO - (SOMA_X ** 2)/QUANT_VALORES # Decidi separar o denominador em 2 partes\n",
    "    denominador_parte2 = SOMA_Y_QUADRADO - (SOMA_Y ** 2)/QUANT_VALORES \n",
    "    \n",
    "    denominador_final = numpy.sqrt(denominador_parte1 * denominador_parte2)\n",
    "\n",
    "    resultado = numerador/denominador_final\n",
    "    \n",
    "    return resultado"
   ]
  },
  {
   "cell_type": "markdown",
   "id": "7845a924-1b5c-47b4-96dd-ee9158942fde",
   "metadata": {
    "tags": []
   },
   "source": [
    "# Estudo de Dados"
   ]
  },
  {
   "cell_type": "markdown",
   "id": "b1cdc00e-4b43-463f-b645-4600b010d445",
   "metadata": {
    "tags": []
   },
   "source": [
    "## Tratamento do Dataframe"
   ]
  },
  {
   "cell_type": "code",
   "execution_count": 7,
   "id": "c54fc608-6008-42d1-bfb4-4cc62037a66a",
   "metadata": {
    "tags": []
   },
   "outputs": [],
   "source": [
    "tabela = pandas.read_csv(\"aluguel.csv\", sep=\";\")"
   ]
  },
  {
   "cell_type": "code",
   "execution_count": 8,
   "id": "cb967747-438a-421d-a532-b64d801b586a",
   "metadata": {
    "tags": []
   },
   "outputs": [
    {
     "data": {
      "text/html": [
       "<div>\n",
       "<style scoped>\n",
       "    .dataframe tbody tr th:only-of-type {\n",
       "        vertical-align: middle;\n",
       "    }\n",
       "\n",
       "    .dataframe tbody tr th {\n",
       "        vertical-align: top;\n",
       "    }\n",
       "\n",
       "    .dataframe thead th {\n",
       "        text-align: right;\n",
       "    }\n",
       "</style>\n",
       "<table border=\"1\" class=\"dataframe\">\n",
       "  <thead>\n",
       "    <tr style=\"text-align: right;\">\n",
       "      <th></th>\n",
       "      <th>Tipo</th>\n",
       "      <th>Bairro</th>\n",
       "      <th>Quartos</th>\n",
       "      <th>Vagas</th>\n",
       "      <th>Suites</th>\n",
       "      <th>Area</th>\n",
       "      <th>Valor</th>\n",
       "      <th>Condominio</th>\n",
       "      <th>IPTU</th>\n",
       "    </tr>\n",
       "  </thead>\n",
       "  <tbody>\n",
       "    <tr>\n",
       "      <th>0</th>\n",
       "      <td>Quitinete</td>\n",
       "      <td>Copacabana</td>\n",
       "      <td>1</td>\n",
       "      <td>0</td>\n",
       "      <td>0</td>\n",
       "      <td>40</td>\n",
       "      <td>1700.0</td>\n",
       "      <td>500.0</td>\n",
       "      <td>60.0</td>\n",
       "    </tr>\n",
       "    <tr>\n",
       "      <th>1</th>\n",
       "      <td>Casa</td>\n",
       "      <td>Jardim Botânico</td>\n",
       "      <td>2</td>\n",
       "      <td>0</td>\n",
       "      <td>1</td>\n",
       "      <td>100</td>\n",
       "      <td>7000.0</td>\n",
       "      <td>NaN</td>\n",
       "      <td>NaN</td>\n",
       "    </tr>\n",
       "    <tr>\n",
       "      <th>2</th>\n",
       "      <td>Conjunto Comercial/Sala</td>\n",
       "      <td>Barra da Tijuca</td>\n",
       "      <td>0</td>\n",
       "      <td>4</td>\n",
       "      <td>0</td>\n",
       "      <td>150</td>\n",
       "      <td>5200.0</td>\n",
       "      <td>4020.0</td>\n",
       "      <td>1111.0</td>\n",
       "    </tr>\n",
       "    <tr>\n",
       "      <th>3</th>\n",
       "      <td>Apartamento</td>\n",
       "      <td>Centro</td>\n",
       "      <td>1</td>\n",
       "      <td>0</td>\n",
       "      <td>0</td>\n",
       "      <td>15</td>\n",
       "      <td>800.0</td>\n",
       "      <td>390.0</td>\n",
       "      <td>20.0</td>\n",
       "    </tr>\n",
       "    <tr>\n",
       "      <th>4</th>\n",
       "      <td>Apartamento</td>\n",
       "      <td>Higienópolis</td>\n",
       "      <td>1</td>\n",
       "      <td>0</td>\n",
       "      <td>0</td>\n",
       "      <td>48</td>\n",
       "      <td>800.0</td>\n",
       "      <td>230.0</td>\n",
       "      <td>NaN</td>\n",
       "    </tr>\n",
       "  </tbody>\n",
       "</table>\n",
       "</div>"
      ],
      "text/plain": [
       "                      Tipo           Bairro  Quartos  Vagas  Suites  Area  \\\n",
       "0                Quitinete       Copacabana        1      0       0    40   \n",
       "1                     Casa  Jardim Botânico        2      0       1   100   \n",
       "2  Conjunto Comercial/Sala  Barra da Tijuca        0      4       0   150   \n",
       "3              Apartamento           Centro        1      0       0    15   \n",
       "4              Apartamento     Higienópolis        1      0       0    48   \n",
       "\n",
       "    Valor  Condominio    IPTU  \n",
       "0  1700.0       500.0    60.0  \n",
       "1  7000.0         NaN     NaN  \n",
       "2  5200.0      4020.0  1111.0  \n",
       "3   800.0       390.0    20.0  \n",
       "4   800.0       230.0     NaN  "
      ]
     },
     "execution_count": 8,
     "metadata": {},
     "output_type": "execute_result"
    }
   ],
   "source": [
    "tabela.head()"
   ]
  },
  {
   "cell_type": "markdown",
   "id": "965080c5-52d5-4100-86b1-0f0da147b3b3",
   "metadata": {},
   "source": [
    "### Remoção de NaN"
   ]
  },
  {
   "cell_type": "code",
   "execution_count": 9,
   "id": "386a4ede-8378-41f9-94a7-12c498ef0bf9",
   "metadata": {
    "tags": []
   },
   "outputs": [
    {
     "data": {
      "text/html": [
       "<div>\n",
       "<style scoped>\n",
       "    .dataframe tbody tr th:only-of-type {\n",
       "        vertical-align: middle;\n",
       "    }\n",
       "\n",
       "    .dataframe tbody tr th {\n",
       "        vertical-align: top;\n",
       "    }\n",
       "\n",
       "    .dataframe thead th {\n",
       "        text-align: right;\n",
       "    }\n",
       "</style>\n",
       "<table border=\"1\" class=\"dataframe\">\n",
       "  <thead>\n",
       "    <tr style=\"text-align: right;\">\n",
       "      <th></th>\n",
       "      <th>Tipo</th>\n",
       "      <th>Bairro</th>\n",
       "      <th>Quartos</th>\n",
       "      <th>Vagas</th>\n",
       "      <th>Suites</th>\n",
       "      <th>Area</th>\n",
       "      <th>Valor</th>\n",
       "      <th>Condominio</th>\n",
       "      <th>IPTU</th>\n",
       "    </tr>\n",
       "  </thead>\n",
       "  <tbody>\n",
       "    <tr>\n",
       "      <th>76</th>\n",
       "      <td>Apartamento</td>\n",
       "      <td>Barra da Tijuca</td>\n",
       "      <td>2</td>\n",
       "      <td>1</td>\n",
       "      <td>1</td>\n",
       "      <td>70</td>\n",
       "      <td>NaN</td>\n",
       "      <td>970.0</td>\n",
       "      <td>68.0</td>\n",
       "    </tr>\n",
       "    <tr>\n",
       "      <th>2186</th>\n",
       "      <td>Apartamento</td>\n",
       "      <td>Leme</td>\n",
       "      <td>2</td>\n",
       "      <td>0</td>\n",
       "      <td>0</td>\n",
       "      <td>75</td>\n",
       "      <td>NaN</td>\n",
       "      <td>878.0</td>\n",
       "      <td>NaN</td>\n",
       "    </tr>\n",
       "    <tr>\n",
       "      <th>2456</th>\n",
       "      <td>Casa</td>\n",
       "      <td>Campo Grande</td>\n",
       "      <td>3</td>\n",
       "      <td>4</td>\n",
       "      <td>3</td>\n",
       "      <td>363</td>\n",
       "      <td>NaN</td>\n",
       "      <td>NaN</td>\n",
       "      <td>NaN</td>\n",
       "    </tr>\n",
       "    <tr>\n",
       "      <th>2646</th>\n",
       "      <td>Loja/Salão</td>\n",
       "      <td>Barra da Tijuca</td>\n",
       "      <td>0</td>\n",
       "      <td>2</td>\n",
       "      <td>0</td>\n",
       "      <td>80</td>\n",
       "      <td>NaN</td>\n",
       "      <td>NaN</td>\n",
       "      <td>NaN</td>\n",
       "    </tr>\n",
       "    <tr>\n",
       "      <th>2941</th>\n",
       "      <td>Apartamento</td>\n",
       "      <td>Botafogo</td>\n",
       "      <td>2</td>\n",
       "      <td>0</td>\n",
       "      <td>0</td>\n",
       "      <td>95</td>\n",
       "      <td>NaN</td>\n",
       "      <td>1010.0</td>\n",
       "      <td>170.0</td>\n",
       "    </tr>\n",
       "    <tr>\n",
       "      <th>2973</th>\n",
       "      <td>Apartamento</td>\n",
       "      <td>Copacabana</td>\n",
       "      <td>2</td>\n",
       "      <td>0</td>\n",
       "      <td>0</td>\n",
       "      <td>72</td>\n",
       "      <td>NaN</td>\n",
       "      <td>850.0</td>\n",
       "      <td>NaN</td>\n",
       "    </tr>\n",
       "    <tr>\n",
       "      <th>6598</th>\n",
       "      <td>Loja/Salão</td>\n",
       "      <td>Andaraí</td>\n",
       "      <td>0</td>\n",
       "      <td>0</td>\n",
       "      <td>0</td>\n",
       "      <td>326</td>\n",
       "      <td>NaN</td>\n",
       "      <td>NaN</td>\n",
       "      <td>1140.0</td>\n",
       "    </tr>\n",
       "    <tr>\n",
       "      <th>7302</th>\n",
       "      <td>Casa</td>\n",
       "      <td>Campo Grande</td>\n",
       "      <td>3</td>\n",
       "      <td>2</td>\n",
       "      <td>1</td>\n",
       "      <td>100</td>\n",
       "      <td>NaN</td>\n",
       "      <td>NaN</td>\n",
       "      <td>NaN</td>\n",
       "    </tr>\n",
       "    <tr>\n",
       "      <th>12683</th>\n",
       "      <td>Apartamento</td>\n",
       "      <td>Leme</td>\n",
       "      <td>2</td>\n",
       "      <td>0</td>\n",
       "      <td>1</td>\n",
       "      <td>75</td>\n",
       "      <td>NaN</td>\n",
       "      <td>878.0</td>\n",
       "      <td>NaN</td>\n",
       "    </tr>\n",
       "    <tr>\n",
       "      <th>13229</th>\n",
       "      <td>Apartamento</td>\n",
       "      <td>Glória</td>\n",
       "      <td>3</td>\n",
       "      <td>0</td>\n",
       "      <td>1</td>\n",
       "      <td>135</td>\n",
       "      <td>NaN</td>\n",
       "      <td>910.0</td>\n",
       "      <td>228.0</td>\n",
       "    </tr>\n",
       "    <tr>\n",
       "      <th>13525</th>\n",
       "      <td>Apartamento</td>\n",
       "      <td>Gávea</td>\n",
       "      <td>3</td>\n",
       "      <td>1</td>\n",
       "      <td>1</td>\n",
       "      <td>105</td>\n",
       "      <td>NaN</td>\n",
       "      <td>880.0</td>\n",
       "      <td>221.0</td>\n",
       "    </tr>\n",
       "    <tr>\n",
       "      <th>13579</th>\n",
       "      <td>Conjunto Comercial/Sala</td>\n",
       "      <td>Botafogo</td>\n",
       "      <td>0</td>\n",
       "      <td>3</td>\n",
       "      <td>0</td>\n",
       "      <td>200</td>\n",
       "      <td>NaN</td>\n",
       "      <td>10.0</td>\n",
       "      <td>NaN</td>\n",
       "    </tr>\n",
       "    <tr>\n",
       "      <th>20948</th>\n",
       "      <td>Conjunto Comercial/Sala</td>\n",
       "      <td>Freguesia (Jacarepaguá)</td>\n",
       "      <td>0</td>\n",
       "      <td>1</td>\n",
       "      <td>0</td>\n",
       "      <td>24</td>\n",
       "      <td>NaN</td>\n",
       "      <td>500.0</td>\n",
       "      <td>74.0</td>\n",
       "    </tr>\n",
       "    <tr>\n",
       "      <th>21822</th>\n",
       "      <td>Loja Shopping/ Ct Comercial</td>\n",
       "      <td>Barra da Tijuca</td>\n",
       "      <td>0</td>\n",
       "      <td>2</td>\n",
       "      <td>0</td>\n",
       "      <td>77</td>\n",
       "      <td>NaN</td>\n",
       "      <td>3600.0</td>\n",
       "      <td>1390.0</td>\n",
       "    </tr>\n",
       "    <tr>\n",
       "      <th>23056</th>\n",
       "      <td>Conjunto Comercial/Sala</td>\n",
       "      <td>Botafogo</td>\n",
       "      <td>0</td>\n",
       "      <td>0</td>\n",
       "      <td>0</td>\n",
       "      <td>900</td>\n",
       "      <td>NaN</td>\n",
       "      <td>10.0</td>\n",
       "      <td>NaN</td>\n",
       "    </tr>\n",
       "    <tr>\n",
       "      <th>24805</th>\n",
       "      <td>Conjunto Comercial/Sala</td>\n",
       "      <td>Botafogo</td>\n",
       "      <td>0</td>\n",
       "      <td>0</td>\n",
       "      <td>0</td>\n",
       "      <td>500</td>\n",
       "      <td>NaN</td>\n",
       "      <td>10.0</td>\n",
       "      <td>NaN</td>\n",
       "    </tr>\n",
       "    <tr>\n",
       "      <th>29166</th>\n",
       "      <td>Conjunto Comercial/Sala</td>\n",
       "      <td>Botafogo</td>\n",
       "      <td>0</td>\n",
       "      <td>1</td>\n",
       "      <td>0</td>\n",
       "      <td>50</td>\n",
       "      <td>NaN</td>\n",
       "      <td>10.0</td>\n",
       "      <td>NaN</td>\n",
       "    </tr>\n",
       "  </tbody>\n",
       "</table>\n",
       "</div>"
      ],
      "text/plain": [
       "                              Tipo                   Bairro  Quartos  Vagas  \\\n",
       "76                     Apartamento          Barra da Tijuca        2      1   \n",
       "2186                   Apartamento                     Leme        2      0   \n",
       "2456                          Casa             Campo Grande        3      4   \n",
       "2646                    Loja/Salão          Barra da Tijuca        0      2   \n",
       "2941                   Apartamento                 Botafogo        2      0   \n",
       "2973                   Apartamento               Copacabana        2      0   \n",
       "6598                    Loja/Salão                  Andaraí        0      0   \n",
       "7302                          Casa             Campo Grande        3      2   \n",
       "12683                  Apartamento                     Leme        2      0   \n",
       "13229                  Apartamento                   Glória        3      0   \n",
       "13525                  Apartamento                    Gávea        3      1   \n",
       "13579      Conjunto Comercial/Sala                 Botafogo        0      3   \n",
       "20948      Conjunto Comercial/Sala  Freguesia (Jacarepaguá)        0      1   \n",
       "21822  Loja Shopping/ Ct Comercial          Barra da Tijuca        0      2   \n",
       "23056      Conjunto Comercial/Sala                 Botafogo        0      0   \n",
       "24805      Conjunto Comercial/Sala                 Botafogo        0      0   \n",
       "29166      Conjunto Comercial/Sala                 Botafogo        0      1   \n",
       "\n",
       "       Suites  Area  Valor  Condominio    IPTU  \n",
       "76          1    70    NaN       970.0    68.0  \n",
       "2186        0    75    NaN       878.0     NaN  \n",
       "2456        3   363    NaN         NaN     NaN  \n",
       "2646        0    80    NaN         NaN     NaN  \n",
       "2941        0    95    NaN      1010.0   170.0  \n",
       "2973        0    72    NaN       850.0     NaN  \n",
       "6598        0   326    NaN         NaN  1140.0  \n",
       "7302        1   100    NaN         NaN     NaN  \n",
       "12683       1    75    NaN       878.0     NaN  \n",
       "13229       1   135    NaN       910.0   228.0  \n",
       "13525       1   105    NaN       880.0   221.0  \n",
       "13579       0   200    NaN        10.0     NaN  \n",
       "20948       0    24    NaN       500.0    74.0  \n",
       "21822       0    77    NaN      3600.0  1390.0  \n",
       "23056       0   900    NaN        10.0     NaN  \n",
       "24805       0   500    NaN        10.0     NaN  \n",
       "29166       0    50    NaN        10.0     NaN  "
      ]
     },
     "execution_count": 9,
     "metadata": {},
     "output_type": "execute_result"
    }
   ],
   "source": [
    "tabela[tabela[\"Valor\"].isnull()]"
   ]
  },
  {
   "cell_type": "code",
   "execution_count": 10,
   "id": "591e6edb-da0c-434f-aa53-56e21f6866b6",
   "metadata": {
    "tags": []
   },
   "outputs": [],
   "source": [
    "tabela.dropna(subset = ['Valor'], inplace=True)"
   ]
  },
  {
   "cell_type": "code",
   "execution_count": 11,
   "id": "b8305ddc-6581-46a8-812f-796cf8f51728",
   "metadata": {
    "tags": []
   },
   "outputs": [
    {
     "data": {
      "text/plain": [
       "<matplotlib.collections.PathCollection at 0x283e7d5dbc8>"
      ]
     },
     "execution_count": 11,
     "metadata": {},
     "output_type": "execute_result"
    },
    {
     "data": {
      "image/png": "[encoded data removed]",
      "text/plain": [
       "<Figure size 640x480 with 1 Axes>"
      ]
     },
     "metadata": {},
     "output_type": "display_data"
    }
   ],
   "source": [
    "plt.scatter(tabela[\"Area\"], tabela[\"Valor\"])"
   ]
  },
  {
   "cell_type": "markdown",
   "id": "6a3ebce1-9e0e-4607-ab42-4f89a127a46d",
   "metadata": {},
   "source": [
    "### Teto de valores"
   ]
  },
  {
   "cell_type": "code",
   "execution_count": 12,
   "id": "4d63bc86-72e9-4d06-910f-b9057ab20b2d",
   "metadata": {
    "tags": []
   },
   "outputs": [],
   "source": [
    "tabela = tabela[tabela[\"Valor\"] < 200000]\n",
    "tabela = tabela[tabela[\"Area\"] < 20000]"
   ]
  },
  {
   "cell_type": "code",
   "execution_count": 13,
   "id": "85310146-38d5-4d43-92da-0623f53e0fd1",
   "metadata": {
    "tags": []
   },
   "outputs": [
    {
     "data": {
      "image/png": "[encoded data removed]",
      "text/plain": [
       "<Figure size 640x480 with 1 Axes>"
      ]
     },
     "metadata": {},
     "output_type": "display_data"
    }
   ],
   "source": [
    "dispersao = plt.scatter(tabela[\"Area\"], tabela[\"Valor\"])"
   ]
  },
  {
   "cell_type": "markdown",
   "id": "6d68a4c4-1473-40d5-acaf-6c783c2b8584",
   "metadata": {},
   "source": [
    "## Análise dos Dados"
   ]
  },
  {
   "cell_type": "markdown",
   "id": "28a74596-c169-446d-af77-34f887205e80",
   "metadata": {},
   "source": [
    "**Relação entre valor e Area**"
   ]
  },
  {
   "cell_type": "code",
   "execution_count": 14,
   "id": "8b5f4b3f-551c-49ba-ab40-1e112410c563",
   "metadata": {
    "tags": []
   },
   "outputs": [
    {
     "data": {
      "text/html": [
       "<div>\n",
       "<style scoped>\n",
       "    .dataframe tbody tr th:only-of-type {\n",
       "        vertical-align: middle;\n",
       "    }\n",
       "\n",
       "    .dataframe tbody tr th {\n",
       "        vertical-align: top;\n",
       "    }\n",
       "\n",
       "    .dataframe thead th {\n",
       "        text-align: right;\n",
       "    }\n",
       "</style>\n",
       "<table border=\"1\" class=\"dataframe\">\n",
       "  <thead>\n",
       "    <tr style=\"text-align: right;\">\n",
       "      <th></th>\n",
       "      <th>Tipo</th>\n",
       "      <th>Bairro</th>\n",
       "      <th>Area</th>\n",
       "      <th>Valor</th>\n",
       "    </tr>\n",
       "  </thead>\n",
       "  <tbody>\n",
       "    <tr>\n",
       "      <th>0</th>\n",
       "      <td>Quitinete</td>\n",
       "      <td>Copacabana</td>\n",
       "      <td>40</td>\n",
       "      <td>1700.0</td>\n",
       "    </tr>\n",
       "    <tr>\n",
       "      <th>1</th>\n",
       "      <td>Casa</td>\n",
       "      <td>Jardim Botânico</td>\n",
       "      <td>100</td>\n",
       "      <td>7000.0</td>\n",
       "    </tr>\n",
       "    <tr>\n",
       "      <th>2</th>\n",
       "      <td>Conjunto Comercial/Sala</td>\n",
       "      <td>Barra da Tijuca</td>\n",
       "      <td>150</td>\n",
       "      <td>5200.0</td>\n",
       "    </tr>\n",
       "    <tr>\n",
       "      <th>3</th>\n",
       "      <td>Apartamento</td>\n",
       "      <td>Centro</td>\n",
       "      <td>15</td>\n",
       "      <td>800.0</td>\n",
       "    </tr>\n",
       "    <tr>\n",
       "      <th>4</th>\n",
       "      <td>Apartamento</td>\n",
       "      <td>Higienópolis</td>\n",
       "      <td>48</td>\n",
       "      <td>800.0</td>\n",
       "    </tr>\n",
       "    <tr>\n",
       "      <th>...</th>\n",
       "      <td>...</td>\n",
       "      <td>...</td>\n",
       "      <td>...</td>\n",
       "      <td>...</td>\n",
       "    </tr>\n",
       "    <tr>\n",
       "      <th>32955</th>\n",
       "      <td>Quitinete</td>\n",
       "      <td>Centro</td>\n",
       "      <td>27</td>\n",
       "      <td>800.0</td>\n",
       "    </tr>\n",
       "    <tr>\n",
       "      <th>32956</th>\n",
       "      <td>Apartamento</td>\n",
       "      <td>Jacarepaguá</td>\n",
       "      <td>78</td>\n",
       "      <td>1800.0</td>\n",
       "    </tr>\n",
       "    <tr>\n",
       "      <th>32957</th>\n",
       "      <td>Apartamento</td>\n",
       "      <td>São Francisco Xavier</td>\n",
       "      <td>48</td>\n",
       "      <td>1400.0</td>\n",
       "    </tr>\n",
       "    <tr>\n",
       "      <th>32958</th>\n",
       "      <td>Apartamento</td>\n",
       "      <td>Leblon</td>\n",
       "      <td>70</td>\n",
       "      <td>3000.0</td>\n",
       "    </tr>\n",
       "    <tr>\n",
       "      <th>32959</th>\n",
       "      <td>Conjunto Comercial/Sala</td>\n",
       "      <td>Centro</td>\n",
       "      <td>250</td>\n",
       "      <td>6500.0</td>\n",
       "    </tr>\n",
       "  </tbody>\n",
       "</table>\n",
       "<p>32789 rows × 4 columns</p>\n",
       "</div>"
      ],
      "text/plain": [
       "                          Tipo                Bairro  Area   Valor\n",
       "0                    Quitinete            Copacabana    40  1700.0\n",
       "1                         Casa       Jardim Botânico   100  7000.0\n",
       "2      Conjunto Comercial/Sala       Barra da Tijuca   150  5200.0\n",
       "3                  Apartamento                Centro    15   800.0\n",
       "4                  Apartamento          Higienópolis    48   800.0\n",
       "...                        ...                   ...   ...     ...\n",
       "32955                Quitinete                Centro    27   800.0\n",
       "32956              Apartamento           Jacarepaguá    78  1800.0\n",
       "32957              Apartamento  São Francisco Xavier    48  1400.0\n",
       "32958              Apartamento                Leblon    70  3000.0\n",
       "32959  Conjunto Comercial/Sala                Centro   250  6500.0\n",
       "\n",
       "[32789 rows x 4 columns]"
      ]
     },
     "execution_count": 14,
     "metadata": {},
     "output_type": "execute_result"
    }
   ],
   "source": [
    "tabela[['Tipo', 'Bairro', 'Area', 'Valor']]"
   ]
  },
  {
   "cell_type": "code",
   "execution_count": 15,
   "id": "eac9d0b4-e405-4cc5-8ea7-4d5796c9590c",
   "metadata": {
    "tags": []
   },
   "outputs": [
    {
     "data": {
      "text/plain": [
       "0.5204727994233944"
      ]
     },
     "execution_count": 15,
     "metadata": {},
     "output_type": "execute_result"
    }
   ],
   "source": [
    "coef_correlacao(tabela)"
   ]
  },
  {
   "cell_type": "code",
   "execution_count": 16,
   "id": "994f98b6-a132-481e-9b92-9400c4662e56",
   "metadata": {
    "tags": []
   },
   "outputs": [],
   "source": [
    "y = reta_regressao(tabela)"
   ]
  },
  {
   "cell_type": "code",
   "execution_count": 17,
   "id": "70f2988e-eec1-4b7f-848c-98f1ffde2987",
   "metadata": {
    "tags": []
   },
   "outputs": [
    {
     "data": {
      "image/png": "[encoded data removed]",
      "text/plain": [
       "<Figure size 750x350 with 1 Axes>"
      ]
     },
     "metadata": {},
     "output_type": "display_data"
    }
   ],
   "source": [
    "plt.rcParams[\"figure.figsize\"] = [7.50, 3.50]\n",
    "reta_regressao = plt.plot(tabela[\"Area\"], y, c='green')\n",
    "dispersao = plt.scatter(tabela[\"Area\"], tabela[\"Valor\"])"
   ]
  }
 ],
 "metadata": {
  "kernelspec": {
   "display_name": "Python 3 (ipykernel)",
   "language": "python",
   "name": "python3"
  },
  "language_info": {
   "codemirror_mode": {
    "name": "ipython",
    "version": 3
   },
   "file_extension": ".py",
   "mimetype": "text/x-python",
   "name": "python",
   "nbconvert_exporter": "python",
   "pygments_lexer": "ipython3",
   "version": "3.7.9"
  }
 },
 "nbformat": 4,
 "nbformat_minor": 5
}
